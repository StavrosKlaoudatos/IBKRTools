{
 "cells": [
  {
   "cell_type": "code",
   "execution_count": null,
   "id": "786ab4d1",
   "metadata": {},
   "outputs": [
    {
     "name": "stderr",
     "output_type": "stream",
     "text": [
      "ERROR -1 2104 Market data farm connection is OK:usfarm.nj\n",
      "ERROR -1 2104 Market data farm connection is OK:usfarm\n",
      "ERROR -1 2106 HMDS data farm connection is OK:cashhmds\n",
      "ERROR -1 2106 HMDS data farm connection is OK:ushmds\n",
      "ERROR -1 2158 Sec-def data farm connection is OK:secdefnj\n"
     ]
    },
    {
     "name": "stdout",
     "output_type": "stream",
     "text": [
      "Finished receiving data for Request ID: 1\n",
      "Finished receiving data for Request ID: 2\n",
      "Finished receiving data for Request ID: 3\n",
      "Finished receiving data for Request ID: 4\n",
      "Finished receiving data for Request ID: 5\n",
      "Finished receiving data for Request ID: 6\n",
      "\n",
      "\n",
      "\n",
      "\n",
      "dict_keys(['NVDA', 'TSM', 'EUR/USD', 'GBP/USD', 'ES', 'NQ'])\n",
      "   Time_Average_Bid  Highest_Ask  Lowest_Bid  Time_Average_Ask None\n",
      "0            132.52       132.77      132.14            132.56   -1\n",
      "1            132.80       132.95      132.51            132.83   -1\n",
      "2            132.73       132.94      132.57            132.76   -1\n",
      "3            132.79       132.89      132.64            132.82   -1\n",
      "4            132.66       132.79      132.57            132.69   -1\n"
     ]
    }
   ],
   "source": [
    "from src.IBKR_Hist import *\n",
    "from src.utils import *\n",
    "\n",
    "what_to_show,duration,bar_size = \"BID_ASK\",\"1 D\",\"15 mins\"\n",
    "\n",
    "STOCK_SYMBOLS,FOREX_PAIRS,FUTURE_SYMBOLS = [\"NVDA\", \"TSM\"], [\"EUR/USD\", \"GBP/USD\"], [\"ES\", \"NQ\"]\n",
    "\n",
    "data = HistoricalData(STOCK_SYMBOLS, FOREX_PAIRS, FUTURE_SYMBOLS,what_to_show,duration,bar_size,save=False,v=False)\n",
    "\n",
    "print(data.keys())\n",
    "print(data['NVDA'].head())\n",
    "\n"
   ]
  }
 ],
 "metadata": {
  "kernelspec": {
   "display_name": "Main",
   "language": "python",
   "name": "python3"
  },
  "language_info": {
   "codemirror_mode": {
    "name": "ipython",
    "version": 3
   },
   "file_extension": ".py",
   "mimetype": "text/x-python",
   "name": "python",
   "nbconvert_exporter": "python",
   "pygments_lexer": "ipython3",
   "version": "3.11.11"
  }
 },
 "nbformat": 4,
 "nbformat_minor": 5
}
