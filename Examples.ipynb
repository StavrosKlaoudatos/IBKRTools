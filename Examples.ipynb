{
 "cells": [
  {
   "cell_type": "code",
   "execution_count": 3,
   "id": "2cbad124",
   "metadata": {},
   "outputs": [],
   "source": [
    "from src.ibkrtools.IBKR_Hist import *\n",
    "from src.ibkrtools.IBKR_Realitime_Data import *\n",
    "from src.ibkrtools.utils import *\n"
   ]
  },
  {
   "cell_type": "code",
   "execution_count": 7,
   "id": "786ab4d1",
   "metadata": {},
   "outputs": [
    {
     "name": "stderr",
     "output_type": "stream",
     "text": [
      "ERROR -1 2104 Market data farm connection is OK:usfarm.nj\n",
      "ERROR -1 2104 Market data farm connection is OK:eufarm\n",
      "ERROR -1 2104 Market data farm connection is OK:cashfarm\n",
      "ERROR -1 2104 Market data farm connection is OK:usfarm\n",
      "ERROR -1 2106 HMDS data farm connection is OK:euhmds\n",
      "ERROR -1 2106 HMDS data farm connection is OK:cashhmds\n",
      "ERROR -1 2106 HMDS data farm connection is OK:fundfarm\n",
      "ERROR -1 2106 HMDS data farm connection is OK:ushmds\n",
      "ERROR -1 2158 Sec-def data farm connection is OK:secdefnj\n"
     ]
    },
    {
     "name": "stdout",
     "output_type": "stream",
     "text": [
      "Finished receiving data for Request ID: 1\n",
      "Finished receiving data for Request ID: 2\n",
      "Finished receiving data for Request ID: 3\n",
      "Finished receiving data for Request ID: 4\n",
      "Finished receiving data for Request ID: 5\n",
      "Finished receiving data for Request ID: 6\n",
      "\n",
      "\n",
      "\n",
      "\n",
      "dict_keys(['NVDA', 'TSM', 'EUR/USD', 'GBP/USD', 'ES', 'NQ'])\n",
      "\n",
      "NVDA head\n",
      "\n",
      "   Time_Average_Bid  Highest_Ask  Lowest_Bid  Time_Average_Ask None\n",
      "0            132.52       132.77      132.14            132.56   -1\n",
      "1            132.80       132.95      132.51            132.83   -1\n",
      "2            132.73       132.94      132.57            132.76   -1\n",
      "3            132.79       132.89      132.64            132.82   -1\n",
      "4            132.66       132.79      132.57            132.69   -1\n",
      "\n",
      "ES head\n",
      "\n",
      "   Time_Average_Bid  Highest_Ask  Lowest_Bid  Time_Average_Ask None\n",
      "0           5857.00      5866.00     5851.00           5857.50   -1\n",
      "1           5856.50      5859.75     5851.75           5856.75   -1\n",
      "2           5858.50      5860.50     5856.50           5859.00   -1\n",
      "3           5858.00      5859.75     5856.00           5858.25   -1\n",
      "4           5858.25      5862.00     5856.00           5858.75   -1\n"
     ]
    }
   ],
   "source": [
    "\n",
    "what_to_show,duration,bar_size = \"BID_ASK\",\"1 D\",\"15 mins\"\n",
    "\n",
    "STOCK_SYMBOLS,FOREX_PAIRS,FUTURE_SYMBOLS = [\"NVDA\", \"TSM\"], [\"EUR/USD\", \"GBP/USD\"], [\"ES\", \"NQ\"]\n",
    "\n",
    "data = HistoricalData(STOCK_SYMBOLS, FOREX_PAIRS, FUTURE_SYMBOLS,what_to_show,duration,bar_size,save=False,v=False)\n",
    "\n",
    "print(data.keys())\n",
    "print(\"\\nNVDA head\\n\")\n",
    "print(data['NVDA'].head())\n",
    "print(\"\\nES head\\n\")\n",
    "print(data['ES'].head())\n",
    "\n"
   ]
  },
  {
   "cell_type": "code",
   "execution_count": 2,
   "id": "95c75ea0",
   "metadata": {},
   "outputs": [
    {
     "name": "stderr",
     "output_type": "stream",
     "text": [
      "ERROR -1 2104 Market data farm connection is OK:usfarm.nj\n",
      "ERROR -1 2104 Market data farm connection is OK:eufarm\n",
      "ERROR -1 2104 Market data farm connection is OK:cashfarm\n",
      "ERROR -1 2104 Market data farm connection is OK:usfarm\n",
      "ERROR -1 2106 HMDS data farm connection is OK:euhmds\n",
      "ERROR -1 2106 HMDS data farm connection is OK:cashhmds\n",
      "ERROR -1 2106 HMDS data farm connection is OK:fundfarm\n",
      "ERROR -1 2106 HMDS data farm connection is OK:ushmds\n",
      "ERROR -1 2158 Sec-def data farm connection is OK:secdefnj\n"
     ]
    },
    {
     "name": "stdout",
     "output_type": "stream",
     "text": [
      "Time: 2025-05-22 21:18:35.080647+00:00\n",
      "CHF/USD       Bid:  1.20577 Ask:  1.20867 Bid Size:  250000 Ask Size:  250000\n",
      "EUR/USD       Bid:  1.12795 Ask:  1.12822 Bid Size:  2000000 Ask Size:  None\n",
      "Time: 2025-05-22 21:18:37.997325+00:00\n",
      "CHF/USD       Bid:  1.2058 Ask:  1.20867 Bid Size:  250000 Ask Size:  250000\n",
      "EUR/USD       Bid:  1.12795 Ask:  1.12822 Bid Size:  2000000 Ask Size:  2000000\n",
      "Time: 2025-05-22 21:18:50.817268+00:00\n",
      "CHF/USD       Bid:  1.20581 Ask:  1.20867 Bid Size:  1000000 Ask Size:  250000\n",
      "EUR/USD       Bid:  1.12795 Ask:  1.12822 Bid Size:  2000000 Ask Size:  2000000\n",
      "Time: 2025-05-22 21:18:50.918624+00:00\n",
      "CHF/USD       Bid:  1.20581 Ask:  1.20867 Bid Size:  1000000 Ask Size:  250000\n",
      "EUR/USD       Bid:  1.12795 Ask:  1.12824 Bid Size:  2000000 Ask Size:  2000000\n",
      "Time: 2025-05-22 21:18:51.817842+00:00\n",
      "CHF/USD       Bid:  1.20582 Ask:  1.20867 Bid Size:  1000000 Ask Size:  250000\n",
      "EUR/USD       Bid:  1.12795 Ask:  1.12824 Bid Size:  2000000 Ask Size:  1500000\n",
      "Time: 2025-05-22 21:18:58.528869+00:00\n",
      "CHF/USD       Bid:  1.20582 Ask:  1.20867 Bid Size:  1000000 Ask Size:  250000\n",
      "EUR/USD       Bid:  1.12804 Ask:  1.12824 Bid Size:  2000000 Ask Size:  1500000\n",
      "Time: 2025-05-22 21:18:58.530148+00:00\n",
      "CHF/USD       Bid:  1.20583 Ask:  1.20867 Bid Size:  1000000 Ask Size:  250000\n",
      "EUR/USD       Bid:  1.12804 Ask:  1.12824 Bid Size:  1000000 Ask Size:  1500000\n"
     ]
    }
   ],
   "source": [
    "\n",
    "Stocks,Forex,Futures = [], [\"CHF/USD\",\"EUR/USD\"], []\n",
    "\n",
    "Save_Realtime_Data(Stocks,Forex,Futures)\n",
    "\n",
    "# Saved Data is in RealTimeData folder"
   ]
  }
 ],
 "metadata": {
  "kernelspec": {
   "display_name": "Main",
   "language": "python",
   "name": "python3"
  },
  "language_info": {
   "codemirror_mode": {
    "name": "ipython",
    "version": 3
   },
   "file_extension": ".py",
   "mimetype": "text/x-python",
   "name": "python",
   "nbconvert_exporter": "python",
   "pygments_lexer": "ipython3",
   "version": "3.11.11"
  }
 },
 "nbformat": 4,
 "nbformat_minor": 5
}
